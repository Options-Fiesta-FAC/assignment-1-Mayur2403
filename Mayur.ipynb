{
  "metadata": {
    "kernelspec": {
      "name": "python",
      "display_name": "Python (Pyodide)",
      "language": "python"
    },
    "language_info": {
      "codemirror_mode": {
        "name": "python",
        "version": 3
      },
      "file_extension": ".py",
      "mimetype": "text/x-python",
      "name": "python",
      "nbconvert_exporter": "python",
      "pygments_lexer": "ipython3",
      "version": "3.8"
    }
  },
  "nbformat_minor": 5,
  "nbformat": 4,
  "cells": [
    {
      "id": "bf9b03af-35d5-4da5-8612-a048926553ee",
      "cell_type": "code",
      "source": "import numpy as np\nimport matplotlib.pyplot as plt\n# Function for the Buy Call option strategy.\n# For a call option you buy, the profit is:\n# Profit = max(spot - strike, 0) - premium\ndef buy_call(spot, strike, premium):\n    return np.maximum(spot - strike, 0) - premium \n# Selling a call gives you the premium upfront but if the option is exercised,\n# you lose: Profit = premium - max(spot - strike, 0)\ndef sell_call(spot, strike, premium):\n    return premium - np.maximum(spot - strike, 0) \n# Function for the Buy Put option strategy.\n# With a put option that you buy, the profit is:\n# Profit = max(strike - spot, 0) - premium\ndef buy_put(spot, strike, premium):\n    return np.maximum(strike - spot, 0) - premium \n# For selling a put you receive the premium but might have a loss when exercised:\n# Profit = premium - max(strike - spot, 0)\ndef sell_put(spot, strike, premium):\n  return premium - np.maximum(strike - spot, 0)\n# Inputs\nK = 100  # Strike Price\nP = 10   # Premium\n# Create range of spot prices.\nspot_prices = np.linspace(K - 50, K + 50, 101)\n# Calculate the profit (or loss) for each option strategy over the range of spot prices.\nprofit_buy_call = buy_call(spot_prices, K, P)\nprofit_sell_call = sell_call(spot_prices, K, P)\nprofit_buy_put = buy_put(spot_prices, K, P)\nprofit_sell_put = sell_put(spot_prices, K, P)  \n# Set up the plot with nice size.\nplt.figure(figsize=(10, 8))\n# Plot each option strategy with different colors and line styles.\nplt.plot(spot_prices, profit_buy_call, label=\"Buy Call\", color=\"blue\", linestyle=\"-\")\nplt.plot(spot_prices, profit_sell_call, label=\"Sell Call\", color=\"red\", linestyle=\"--\")\nplt.plot(spot_prices, profit_buy_put, label=\"Buy Put\", color=\"green\", linestyle=\"-.\")\nplt.plot(spot_prices, profit_sell_put, label=\"Sell Put\", color=\"purple\", linestyle=\":\")\n# Add a vertical line at the strike price to see where the option starts to have effect.\nplt.axvline(x=K, color=\"black\", linestyle=\"--\", label=\"Strike Price (K)\")\n# Label x-axis, y-axis and add a title to the plot\nplt.xlabel(\"Spot Price (S)\")\nplt.ylabel(\"Profit / Loss\")\nplt.title(\"Vanilla Options Payoff vs. Spot Price\")\n# Add grid and legend\nplt.grid(True)\nplt.legend()\n# Display the plot\nplt.show()\n",
      "metadata": {
        "trusted": true
      },
      "outputs": [],
      "execution_count": null
    },
    {
      "id": "3f8988de-6453-405d-93f5-b9927dda444a",
      "cell_type": "code",
      "source": "",
      "metadata": {
        "trusted": true
      },
      "outputs": [],
      "execution_count": null
    }
  ]
}